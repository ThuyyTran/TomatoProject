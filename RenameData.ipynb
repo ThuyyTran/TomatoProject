{
 "cells": [
  {
   "cell_type": "code",
   "execution_count": 22,
   "metadata": {},
   "outputs": [],
   "source": [
    "import os\n",
    "data_img_train = \"/media/anlab/data/TomatoProject/DataObjectDetection/DataOld/data_0/train/images/\"\n",
    "data_label_train = \"/media/anlab/data/TomatoProject/DataObjectDetection/DataOld/data_0/train/labels/\"\n",
    "data_labels_train = \"/media/anlab/data/TomatoProject/DataObjectDetection/DataOld/data_0/train/labels_new/\"\n",
    "\n",
    "for path in os.listdir(data_img_train):\n",
    "    label = path[:-4] + \".txt\"\n",
    "    # f = open(data_label_train + label, \"r\")\n",
    "    f = open(data_label_train + label, \"r\")\n",
    "    h = open(data_labels_train + label, \"a\")\n",
    "    # print(\"path \" ,data_labels_train + label )\n",
    "    lines =  f.readlines()\n",
    "    for line in lines:\n",
    "        # l = line.split(\" \")\n",
    "        # if int(l[0])== 0:\n",
    "        #     h.write(line)\n",
    "        # else:\n",
    "\n",
    "        #     print(line[0])\n",
    "        d = line.split(\" \")\n",
    "        p = f'0 {d[1]} {d[2]} {d[3]} {d[4]}'\n",
    "        h.write(p)\n",
    "    h.close()"
   ]
  },
  {
   "cell_type": "code",
   "execution_count": 23,
   "metadata": {},
   "outputs": [
    {
     "name": "stdout",
     "output_type": "stream",
     "text": [
      "/media/anlab/data/TomatoProject/yolov5\n"
     ]
    }
   ],
   "source": [
    "%cd yolov5"
   ]
  },
  {
   "cell_type": "code",
   "execution_count": 24,
   "metadata": {},
   "outputs": [
    {
     "name": "stdout",
     "output_type": "stream",
     "text": [
      "upload and label your dataset, and get an API KEY here: https://app.roboflow.com/?model=yolov5&ref=roboflow-yolov5\n"
     ]
    }
   ],
   "source": [
    "#follow the link below to get your download code from from Roboflow\n",
    "!pip install -q roboflow\n",
    "from roboflow import Roboflow\n",
    "rf = Roboflow(model_format=\"yolov5\", notebook=\"roboflow-yolov5\")"
   ]
  },
  {
   "cell_type": "code",
   "execution_count": 25,
   "metadata": {},
   "outputs": [
    {
     "name": "stdout",
     "output_type": "stream",
     "text": [
      "Requirement already satisfied: roboflow in /home/anlab/anaconda3/envs/cuda/lib/python3.7/site-packages (0.2.18)\n",
      "Requirement already satisfied: chardet==4.0.0 in /home/anlab/anaconda3/envs/cuda/lib/python3.7/site-packages (from roboflow) (4.0.0)\n",
      "Requirement already satisfied: python-dateutil in /home/anlab/anaconda3/envs/cuda/lib/python3.7/site-packages (from roboflow) (2.8.2)\n",
      "Requirement already satisfied: opencv-python-headless>=4.5.1.48 in /home/anlab/anaconda3/envs/cuda/lib/python3.7/site-packages (from roboflow) (4.6.0.66)\n",
      "Requirement already satisfied: cycler==0.10.0 in /home/anlab/anaconda3/envs/cuda/lib/python3.7/site-packages (from roboflow) (0.10.0)\n",
      "Requirement already satisfied: urllib3==1.26.6 in /home/anlab/anaconda3/envs/cuda/lib/python3.7/site-packages (from roboflow) (1.26.6)\n",
      "Requirement already satisfied: pyparsing==2.4.7 in /home/anlab/anaconda3/envs/cuda/lib/python3.7/site-packages (from roboflow) (2.4.7)\n",
      "Requirement already satisfied: idna==2.10 in /home/anlab/anaconda3/envs/cuda/lib/python3.7/site-packages (from roboflow) (2.10)\n",
      "Requirement already satisfied: wget in /home/anlab/anaconda3/envs/cuda/lib/python3.7/site-packages (from roboflow) (3.2)\n",
      "Requirement already satisfied: requests in /home/anlab/anaconda3/envs/cuda/lib/python3.7/site-packages (from roboflow) (2.27.1)\n",
      "Requirement already satisfied: six in /home/anlab/anaconda3/envs/cuda/lib/python3.7/site-packages (from roboflow) (1.16.0)\n",
      "Requirement already satisfied: python-dotenv in /home/anlab/anaconda3/envs/cuda/lib/python3.7/site-packages (from roboflow) (0.21.0)\n",
      "Requirement already satisfied: kiwisolver>=1.3.1 in /home/anlab/anaconda3/envs/cuda/lib/python3.7/site-packages (from roboflow) (1.4.2)\n",
      "Requirement already satisfied: requests-toolbelt in /home/anlab/anaconda3/envs/cuda/lib/python3.7/site-packages (from roboflow) (0.10.1)\n",
      "Requirement already satisfied: glob2 in /home/anlab/anaconda3/envs/cuda/lib/python3.7/site-packages (from roboflow) (0.7)\n",
      "Requirement already satisfied: matplotlib in /home/anlab/anaconda3/envs/cuda/lib/python3.7/site-packages (from roboflow) (3.5.2)\n",
      "Requirement already satisfied: numpy>=1.18.5 in /home/anlab/anaconda3/envs/cuda/lib/python3.7/site-packages (from roboflow) (1.21.5)\n",
      "Requirement already satisfied: PyYAML>=5.3.1 in /home/anlab/anaconda3/envs/cuda/lib/python3.7/site-packages (from roboflow) (6.0)\n",
      "Requirement already satisfied: certifi==2021.5.30 in /home/anlab/anaconda3/envs/cuda/lib/python3.7/site-packages (from roboflow) (2021.5.30)\n",
      "Requirement already satisfied: Pillow>=7.1.2 in /home/anlab/anaconda3/envs/cuda/lib/python3.7/site-packages (from roboflow) (9.1.1)\n",
      "Requirement already satisfied: tqdm>=4.41.0 in /home/anlab/anaconda3/envs/cuda/lib/python3.7/site-packages (from roboflow) (4.64.0)\n",
      "Requirement already satisfied: typing-extensions in /home/anlab/anaconda3/envs/cuda/lib/python3.7/site-packages (from kiwisolver>=1.3.1->roboflow) (4.3.0)\n",
      "Requirement already satisfied: fonttools>=4.22.0 in /home/anlab/anaconda3/envs/cuda/lib/python3.7/site-packages (from matplotlib->roboflow) (4.33.3)\n",
      "Requirement already satisfied: packaging>=20.0 in /home/anlab/anaconda3/envs/cuda/lib/python3.7/site-packages (from matplotlib->roboflow) (21.3)\n",
      "Requirement already satisfied: charset-normalizer~=2.0.0 in /home/anlab/anaconda3/envs/cuda/lib/python3.7/site-packages (from requests->roboflow) (2.0.12)\n",
      "loading Roboflow workspace...\n",
      "loading Roboflow project...\n",
      "Downloading Dataset Version Zip in TomatoDetection-1 to yolov5pytorch: 100% [257919483 / 257919483] bytes\n"
     ]
    },
    {
     "name": "stderr",
     "output_type": "stream",
     "text": [
      "Extracting Dataset Version Zip to TomatoDetection-1 in yolov5pytorch:: 100%|██████████| 12801/12801 [00:02<00:00, 6114.52it/s]\n"
     ]
    }
   ],
   "source": [
    "!pip install roboflow\n",
    "\n",
    "from roboflow import Roboflow\n",
    "rf = Roboflow(api_key=\"yWwkgvBAPrN8iM1uFCar\")\n",
    "project = rf.workspace(\"thy-trn-quang\").project(\"tomatodetection-pi8wi\")\n",
    "dataset = project.version(1).download(\"yolov5\")"
   ]
  },
  {
   "cell_type": "code",
   "execution_count": null,
   "metadata": {},
   "outputs": [],
   "source": []
  }
 ],
 "metadata": {
  "interpreter": {
   "hash": "76fcdd84d9d001d774a0155d9a7cd1a74f15ff8f0c9d7902e9d24b38c26826ef"
  },
  "kernelspec": {
   "display_name": "Python 3.7.13 ('cuda')",
   "language": "python",
   "name": "python3"
  },
  "language_info": {
   "codemirror_mode": {
    "name": "ipython",
    "version": 3
   },
   "file_extension": ".py",
   "mimetype": "text/x-python",
   "name": "python",
   "nbconvert_exporter": "python",
   "pygments_lexer": "ipython3",
   "version": "3.7.13"
  },
  "orig_nbformat": 4
 },
 "nbformat": 4,
 "nbformat_minor": 2
}
